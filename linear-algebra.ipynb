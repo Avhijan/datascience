{
 "cells": [
  {
   "cell_type": "markdown",
   "metadata": {},
   "source": [
    "# Linear Algebra"
   ]
  },
  {
   "cell_type": "markdown",
   "metadata": {},
   "source": [
    "### Arithmetic Operation of Vectors\n"
   ]
  },
  {
   "cell_type": "markdown",
   "metadata": {},
   "source": [
    "Q.1) Perform the following operations on the given matrices:\n",
    "A=[[2    -1], [​0    3​]]\n",
    "B=[[1   ​ 2], [-3      4​]]\n",
    "a. A+B\n",
    "b. AB\n",
    "c. 3A−2B"
   ]
  },
  {
   "cell_type": "code",
   "execution_count": 23,
   "metadata": {},
   "outputs": [
    {
     "name": "stdout",
     "output_type": "stream",
     "text": [
      "A + B= \n",
      "[[ 3  1]\n",
      " [-3  7]]\n",
      "\n",
      "AB = \n",
      "[[ 2 -2]\n",
      " [ 0 12]]\n",
      "\n",
      "3A - 2B =\n",
      "[[ 4 -7]\n",
      " [ 6  1]]\n"
     ]
    }
   ],
   "source": [
    "import numpy as np\n",
    "\n",
    "A = np.array([[2, -1], [0, 3]])\n",
    "B = np.array([[1, 2], [-3, 4]])\n",
    "\n",
    "print(f\"A + B= \\n{A+B}\")\n",
    "\n",
    "print(f\"\\nAB = \\n{A*B}\")\n",
    "\n",
    "print(f\"\\n3A - 2B =\\n{3*A-2*B}\")\n"
   ]
  },
  {
   "cell_type": "markdown",
   "metadata": {},
   "source": [
    "---\n"
   ]
  },
  {
   "cell_type": "markdown",
   "metadata": {},
   "source": [
    "### Inverse and determinant of matrix"
   ]
  },
  {
   "cell_type": "markdown",
   "metadata": {},
   "source": [
    "Q.2) Find the determinant of A.\n",
    "Determine whether A is invertible. If yes, calculate A−1."
   ]
  },
  {
   "cell_type": "code",
   "execution_count": 24,
   "metadata": {},
   "outputs": [
    {
     "name": "stdout",
     "output_type": "stream",
     "text": [
      "The determinant of the given matrix \n",
      "6.0\n",
      "The inverse of the matrix:\n",
      " [[0.5        0.16666667]\n",
      " [0.         0.33333333]]\n"
     ]
    }
   ],
   "source": [
    "A = np.array([[2, -1], [0, 3]])\n",
    "A_det= np.linalg.det(A)\n",
    "print(f\"The determinant of the given matrix \\n{A_det}\")\n",
    "\n",
    "if A_det == 0:\n",
    "    print(\" = 0\")\n",
    "    print(\"\\nInverse of the matrix isn't possible\")\n",
    "\n",
    "else:\n",
    "    print(f\"The inverse of the matrix:\\n {np.linalg.inv(A)}\")"
   ]
  },
  {
   "cell_type": "markdown",
   "metadata": {},
   "source": [
    "---\n"
   ]
  },
  {
   "cell_type": "markdown",
   "metadata": {},
   "source": [
    "### Eigenvalues and Eigenvectors  "
   ]
  },
  {
   "cell_type": "markdown",
   "metadata": {},
   "source": [
    "Q.2) Compute the eigenvalues and eigenvectors of the matrix:\n",
    "C=[[4    1], [​−2       1]​]"
   ]
  },
  {
   "cell_type": "code",
   "execution_count": 25,
   "metadata": {},
   "outputs": [
    {
     "name": "stdout",
     "output_type": "stream",
     "text": [
      "Say the given vector is \n",
      " C = \n",
      "[[ 4  1]\n",
      " [-2  1]]\n",
      "\n",
      " The eigen value for C is \n",
      "[3. 2.]\n",
      "\n",
      " The Eigen vector is \n",
      "[[ 0.70710678 -0.4472136 ]\n",
      " [-0.70710678  0.89442719]]\n"
     ]
    }
   ],
   "source": [
    "C = np.array([[4, 1], [-2, 1]])\n",
    "\n",
    "print(f\"Say the given vector is \\n C = \\n{C}\")\n",
    "E_value , E_vector = np.linalg.eig(C)\n",
    "print(f\"\\n The eigen value for C is \\n{E_value}\")\n",
    "print(f\"\\n The Eigen vector is \\n{E_vector}\")"
   ]
  },
  {
   "cell_type": "markdown",
   "metadata": {},
   "source": [
    "---"
   ]
  },
  {
   "cell_type": "markdown",
   "metadata": {},
   "source": [
    "### Price prediction"
   ]
  },
  {
   "cell_type": "markdown",
   "metadata": {},
   "source": [
    "Q.3) You are given a dataset of cars with the following features:Number of cylinders (x1​)Engine size in liters (x2​)Horsepower (x3)\n",
    "car 1:\n",
    "x1: 4\n",
    "x2:  1.5\n",
    "x3: 100\n",
    "and price: 20\n",
    "\n",
    "car 2:\n",
    "x1: 6\n",
    "x2:  2.0\n",
    "x3: 150\n",
    "and price: 30\n",
    "\n",
    "Then, find the price of a car 3 with features\n",
    "x1: 8\n",
    "x2:  3.0\n",
    "x3: 200\n",
    "price:?"
   ]
  },
  {
   "cell_type": "code",
   "execution_count": 28,
   "metadata": {},
   "outputs": [
    {
     "name": "stdout",
     "output_type": "stream",
     "text": [
      "[7.98722045e-03 1.42108547e-13 1.99680511e-01]\n",
      "The pridicted value of the car is:\n",
      "39.99999999927965\n"
     ]
    }
   ],
   "source": [
    "import numpy\n",
    "\n",
    "X = np.array([[4,6],\n",
    "              [1.5,2], \n",
    "              [100,150]])\n",
    "Y= np.array([20,30])\n",
    "B = X.T@X\n",
    "Be = np.linalg.inv(B)\n",
    "Bet = Be@X.T\n",
    "Beta = Bet.T@Y\n",
    "print(Beta)\n",
    "m = np.array([8,\n",
    "             3.0,\n",
    "             200])\n",
    "print(\"The pridicted value of the car is:\")\n",
    "print(Beta@m)\n"
   ]
  },
  {
   "cell_type": "markdown",
   "metadata": {},
   "source": [
    "---\n"
   ]
  }
 ],
 "metadata": {
  "kernelspec": {
   "display_name": "Python 3",
   "language": "python",
   "name": "python3"
  },
  "language_info": {
   "codemirror_mode": {
    "name": "ipython",
    "version": 3
   },
   "file_extension": ".py",
   "mimetype": "text/x-python",
   "name": "python",
   "nbconvert_exporter": "python",
   "pygments_lexer": "ipython3",
   "version": "3.13.0"
  }
 },
 "nbformat": 4,
 "nbformat_minor": 2
}
