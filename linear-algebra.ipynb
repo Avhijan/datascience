{
 "cells": [
  {
   "cell_type": "markdown",
   "metadata": {},
   "source": [
    "# Linear Algebra"
   ]
  },
  {
   "cell_type": "markdown",
   "metadata": {},
   "source": [
    "### Arithmetic Operation of Vectors\n"
   ]
  },
  {
   "cell_type": "code",
   "execution_count": 23,
   "metadata": {},
   "outputs": [
    {
     "name": "stdout",
     "output_type": "stream",
     "text": [
      "A + B= \n",
      "[[ 3  1]\n",
      " [-3  7]]\n",
      "\n",
      "AB = \n",
      "[[ 2 -2]\n",
      " [ 0 12]]\n",
      "\n",
      "3A - 2B =\n",
      "[[ 4 -7]\n",
      " [ 6  1]]\n"
     ]
    }
   ],
   "source": [
    "import numpy as np\n",
    "\n",
    "A = np.array([[2, -1], [0, 3]])\n",
    "B = np.array([[1, 2], [-3, 4]])\n",
    "\n",
    "print(f\"A + B= \\n{A+B}\")\n",
    "\n",
    "print(f\"\\nAB = \\n{A*B}\")\n",
    "\n",
    "print(f\"\\n3A - 2B =\\n{3*A-2*B}\")\n"
   ]
  },
  {
   "cell_type": "markdown",
   "metadata": {},
   "source": [
    "### Inverse and determinant of matrix"
   ]
  },
  {
   "cell_type": "code",
   "execution_count": 24,
   "metadata": {},
   "outputs": [
    {
     "name": "stdout",
     "output_type": "stream",
     "text": [
      "The determinant of the given matrix \n",
      "6.0\n",
      "The inverse of the matrix:\n",
      " [[0.5        0.16666667]\n",
      " [0.         0.33333333]]\n"
     ]
    }
   ],
   "source": [
    "A = np.array([[2, -1], [0, 3]])\n",
    "A_det= np.linalg.det(A)\n",
    "print(f\"The determinant of the given matrix \\n{A_det}\")\n",
    "\n",
    "if A_det == 0:\n",
    "    print(\" = 0\")\n",
    "    print(\"\\nInverse of the matrix isn't possible\")\n",
    "\n",
    "else:\n",
    "    print(f\"The inverse of the matrix:\\n {np.linalg.inv(A)}\")"
   ]
  },
  {
   "cell_type": "markdown",
   "metadata": {},
   "source": [
    "### Eigenvalues and Eigenvectors  "
   ]
  },
  {
   "cell_type": "code",
   "execution_count": 25,
   "metadata": {},
   "outputs": [
    {
     "name": "stdout",
     "output_type": "stream",
     "text": [
      "Say the given vector is \n",
      " C = \n",
      "[[ 4  1]\n",
      " [-2  1]]\n",
      "\n",
      " The eigen value for C is \n",
      "[3. 2.]\n",
      "\n",
      " The Eigen vector is \n",
      "[[ 0.70710678 -0.4472136 ]\n",
      " [-0.70710678  0.89442719]]\n"
     ]
    }
   ],
   "source": [
    "C = np.array([[4, 1], [-2, 1]])\n",
    "\n",
    "print(f\"Say the given vector is \\n C = \\n{C}\")\n",
    "E_value , E_vector = np.linalg.eig(C)\n",
    "print(f\"\\n The eigen value for C is \\n{E_value}\")\n",
    "print(f\"\\n The Eigen vector is \\n{E_vector}\")"
   ]
  },
  {
   "cell_type": "markdown",
   "metadata": {},
   "source": [
    "### Price prediction"
   ]
  }
 ],
 "metadata": {
  "kernelspec": {
   "display_name": "Python 3",
   "language": "python",
   "name": "python3"
  },
  "language_info": {
   "codemirror_mode": {
    "name": "ipython",
    "version": 3
   },
   "file_extension": ".py",
   "mimetype": "text/x-python",
   "name": "python",
   "nbconvert_exporter": "python",
   "pygments_lexer": "ipython3",
   "version": "3.13.0"
  }
 },
 "nbformat": 4,
 "nbformat_minor": 2
}
