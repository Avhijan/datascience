{
 "cells": [
  {
   "cell_type": "markdown",
   "metadata": {},
   "source": [
    "# **STATISTICS AND PROBABILITY**"
   ]
  },
  {
   "cell_type": "code",
   "execution_count": 46,
   "metadata": {},
   "outputs": [],
   "source": [
    "import pandas as pd\n",
    "import seaborn  as sns\n",
    "import numpy as np\n",
    "import matplotlib.pyplot as plt"
   ]
  },
  {
   "cell_type": "code",
   "execution_count": 47,
   "metadata": {},
   "outputs": [],
   "source": [
    "# Load dataset\n",
    "def load_repositary1(file_path):\n",
    "  return pd.read_csv(file_path)"
   ]
  },
  {
   "cell_type": "code",
   "execution_count": 48,
   "metadata": {},
   "outputs": [
    {
     "data": {
      "text/html": [
       "<div>\n",
       "<style scoped>\n",
       "    .dataframe tbody tr th:only-of-type {\n",
       "        vertical-align: middle;\n",
       "    }\n",
       "\n",
       "    .dataframe tbody tr th {\n",
       "        vertical-align: top;\n",
       "    }\n",
       "\n",
       "    .dataframe thead th {\n",
       "        text-align: right;\n",
       "    }\n",
       "</style>\n",
       "<table border=\"1\" class=\"dataframe\">\n",
       "  <thead>\n",
       "    <tr style=\"text-align: right;\">\n",
       "      <th></th>\n",
       "      <th>sepal.length</th>\n",
       "      <th>sepal.width</th>\n",
       "      <th>petal.length</th>\n",
       "      <th>petal.width</th>\n",
       "      <th>variety</th>\n",
       "    </tr>\n",
       "  </thead>\n",
       "  <tbody>\n",
       "    <tr>\n",
       "      <th>0</th>\n",
       "      <td>5.1</td>\n",
       "      <td>3.5</td>\n",
       "      <td>1.4</td>\n",
       "      <td>0.2</td>\n",
       "      <td>Setosa</td>\n",
       "    </tr>\n",
       "    <tr>\n",
       "      <th>1</th>\n",
       "      <td>4.9</td>\n",
       "      <td>3.0</td>\n",
       "      <td>1.4</td>\n",
       "      <td>0.2</td>\n",
       "      <td>Setosa</td>\n",
       "    </tr>\n",
       "    <tr>\n",
       "      <th>2</th>\n",
       "      <td>4.7</td>\n",
       "      <td>3.2</td>\n",
       "      <td>1.3</td>\n",
       "      <td>0.2</td>\n",
       "      <td>Setosa</td>\n",
       "    </tr>\n",
       "    <tr>\n",
       "      <th>3</th>\n",
       "      <td>4.6</td>\n",
       "      <td>3.1</td>\n",
       "      <td>1.5</td>\n",
       "      <td>0.2</td>\n",
       "      <td>Setosa</td>\n",
       "    </tr>\n",
       "    <tr>\n",
       "      <th>4</th>\n",
       "      <td>5.0</td>\n",
       "      <td>3.6</td>\n",
       "      <td>1.4</td>\n",
       "      <td>0.2</td>\n",
       "      <td>Setosa</td>\n",
       "    </tr>\n",
       "    <tr>\n",
       "      <th>5</th>\n",
       "      <td>5.4</td>\n",
       "      <td>3.9</td>\n",
       "      <td>1.7</td>\n",
       "      <td>0.4</td>\n",
       "      <td>Setosa</td>\n",
       "    </tr>\n",
       "    <tr>\n",
       "      <th>6</th>\n",
       "      <td>4.6</td>\n",
       "      <td>3.4</td>\n",
       "      <td>1.4</td>\n",
       "      <td>0.3</td>\n",
       "      <td>Setosa</td>\n",
       "    </tr>\n",
       "    <tr>\n",
       "      <th>7</th>\n",
       "      <td>5.0</td>\n",
       "      <td>3.4</td>\n",
       "      <td>1.5</td>\n",
       "      <td>0.2</td>\n",
       "      <td>Setosa</td>\n",
       "    </tr>\n",
       "    <tr>\n",
       "      <th>8</th>\n",
       "      <td>4.4</td>\n",
       "      <td>2.9</td>\n",
       "      <td>1.4</td>\n",
       "      <td>0.2</td>\n",
       "      <td>Setosa</td>\n",
       "    </tr>\n",
       "    <tr>\n",
       "      <th>9</th>\n",
       "      <td>4.9</td>\n",
       "      <td>3.1</td>\n",
       "      <td>1.5</td>\n",
       "      <td>0.1</td>\n",
       "      <td>Setosa</td>\n",
       "    </tr>\n",
       "  </tbody>\n",
       "</table>\n",
       "</div>"
      ],
      "text/plain": [
       "   sepal.length  sepal.width  petal.length  petal.width variety\n",
       "0           5.1          3.5           1.4          0.2  Setosa\n",
       "1           4.9          3.0           1.4          0.2  Setosa\n",
       "2           4.7          3.2           1.3          0.2  Setosa\n",
       "3           4.6          3.1           1.5          0.2  Setosa\n",
       "4           5.0          3.6           1.4          0.2  Setosa\n",
       "5           5.4          3.9           1.7          0.4  Setosa\n",
       "6           4.6          3.4           1.4          0.3  Setosa\n",
       "7           5.0          3.4           1.5          0.2  Setosa\n",
       "8           4.4          2.9           1.4          0.2  Setosa\n",
       "9           4.9          3.1           1.5          0.1  Setosa"
      ]
     },
     "execution_count": 48,
     "metadata": {},
     "output_type": "execute_result"
    }
   ],
   "source": [
    "# first 10 data from dataset\n",
    "df = load_repositary1(\"./iris.csv\")\n",
    "df.head(10)"
   ]
  },
  {
   "cell_type": "markdown",
   "metadata": {},
   "source": [
    "## *Features of Iris Dataset*\n",
    "Iris dataset is a famous dataset in the field of data science and machine learning. It contains data about three types of iris flowers: Iris setosa, Iris versicolor, and Iris virginica. It was introduced by <u> **Ronald A. Fisher** </u> in 1936 and is widely used for classification problems.This dataset consists of four features i.e (sepal.length, sepal.width, petal.width and variety)."
   ]
  },
  {
   "cell_type": "markdown",
   "metadata": {},
   "source": [
    "---"
   ]
  },
  {
   "cell_type": "markdown",
   "metadata": {},
   "source": [
    "## **Mean, Median and Standard deviation**"
   ]
  },
  {
   "cell_type": "markdown",
   "metadata": {},
   "source": [
    "* ###  Using pandas"
   ]
  },
  {
   "cell_type": "code",
   "execution_count": 49,
   "metadata": {},
   "outputs": [
    {
     "name": "stdout",
     "output_type": "stream",
     "text": [
      "The mean of the numeric features are given as follows sepal.length    5.843333\n",
      "sepal.width     3.057333\n",
      "petal.length    3.758000\n",
      "petal.width     1.199333\n",
      "dtype: float64\n",
      "\n",
      "The median of the numeric features are given as follows sepal.length    5.80\n",
      "sepal.width     3.00\n",
      "petal.length    4.35\n",
      "petal.width     1.30\n",
      "dtype: float64\n",
      "\n",
      "The Standard deviation of the numeric features are given as follows sepal.length    0.828066\n",
      "sepal.width     0.435866\n",
      "petal.length    1.765298\n",
      "petal.width     0.762238\n",
      "dtype: float64\n"
     ]
    }
   ],
   "source": [
    "mean=df.mean(numeric_only=1)\n",
    "print(f\"The mean of the numeric features are given as follows {mean}\\n\")\n",
    "median=df.median(numeric_only=1)\n",
    "print(f\"The median of the numeric features are given as follows {median}\\n\")\n",
    "SD=df.std(numeric_only=1)\n",
    "print(f\"The Standard deviation of the numeric features are given as follows {SD}\")"
   ]
  },
  {
   "cell_type": "markdown",
   "metadata": {},
   "source": [
    "- ### Using Numpy\n",
    "Using numpy to calculate mean, median and standard deviation is inconvenientas it can only perform on one column at a time. We can create a numpy array to make things easier."
   ]
  },
  {
   "cell_type": "markdown",
   "metadata": {},
   "source": [
    "---"
   ]
  },
  {
   "cell_type": "markdown",
   "metadata": {},
   "source": [
    "## **Boxplot of all numeric features**\n",
    "We can draw boxplots of all the numeric feature by sending the df directly to sns."
   ]
  },
  {
   "cell_type": "code",
   "execution_count": 50,
   "metadata": {},
   "outputs": [
    {
     "data": {
      "text/plain": [
       "<Axes: >"
      ]
     },
     "execution_count": 50,
     "metadata": {},
     "output_type": "execute_result"
    },
    {
     "data": {
      "image/png": "[encoded data removed]",
      "text/plain": [
       "<Figure size 640x480 with 1 Axes>"
      ]
     },
     "metadata": {},
     "output_type": "display_data"
    }
   ],
   "source": [
    "sns.boxplot(data=df)"
   ]
  },
  {
   "cell_type": "markdown",
   "metadata": {},
   "source": [
    "## <u>Results from boxplot</u>\n",
    "The boxplots of all the numeric features of iris dataset shows that all features have no outliers except for sepal width which shows few high outliers and one low outlier\n"
   ]
  },
  {
   "cell_type": "markdown",
   "metadata": {},
   "source": [
    "---"
   ]
  },
  {
   "cell_type": "markdown",
   "metadata": {},
   "source": [
    "## **Interpretation of the Iris-Dataset**"
   ]
  },
  {
   "cell_type": "markdown",
   "metadata": {},
   "source": [
    "### General Interpretation of Correlations:\n",
    "- Values near 1 indicate a strong positive correlation, meaning both features increase together.\n",
    "- Values near -1 indicate a strong negative correlation, meaning one feature increases as the other decreases.\n",
    "- Values near 0 indicate no significant linear correlation."
   ]
  },
  {
   "cell_type": "code",
   "execution_count": 69,
   "metadata": {},
   "outputs": [
    {
     "data": {
      "text/html": [
       "<div>\n",
       "<style scoped>\n",
       "    .dataframe tbody tr th:only-of-type {\n",
       "        vertical-align: middle;\n",
       "    }\n",
       "\n",
       "    .dataframe tbody tr th {\n",
       "        vertical-align: top;\n",
       "    }\n",
       "\n",
       "    .dataframe thead th {\n",
       "        text-align: right;\n",
       "    }\n",
       "</style>\n",
       "<table border=\"1\" class=\"dataframe\">\n",
       "  <thead>\n",
       "    <tr style=\"text-align: right;\">\n",
       "      <th></th>\n",
       "      <th>sepal.length</th>\n",
       "      <th>sepal.width</th>\n",
       "      <th>petal.length</th>\n",
       "      <th>petal.width</th>\n",
       "    </tr>\n",
       "  </thead>\n",
       "  <tbody>\n",
       "    <tr>\n",
       "      <th>sepal.length</th>\n",
       "      <td>1.00</td>\n",
       "      <td>-0.12</td>\n",
       "      <td>0.87</td>\n",
       "      <td>0.82</td>\n",
       "    </tr>\n",
       "    <tr>\n",
       "      <th>sepal.width</th>\n",
       "      <td>-0.12</td>\n",
       "      <td>1.00</td>\n",
       "      <td>-0.43</td>\n",
       "      <td>-0.37</td>\n",
       "    </tr>\n",
       "    <tr>\n",
       "      <th>petal.length</th>\n",
       "      <td>0.87</td>\n",
       "      <td>-0.43</td>\n",
       "      <td>1.00</td>\n",
       "      <td>0.96</td>\n",
       "    </tr>\n",
       "    <tr>\n",
       "      <th>petal.width</th>\n",
       "      <td>0.82</td>\n",
       "      <td>-0.37</td>\n",
       "      <td>0.96</td>\n",
       "      <td>1.00</td>\n",
       "    </tr>\n",
       "  </tbody>\n",
       "</table>\n",
       "</div>"
      ],
      "text/plain": [
       "              sepal.length  sepal.width  petal.length  petal.width\n",
       "sepal.length          1.00        -0.12          0.87         0.82\n",
       "sepal.width          -0.12         1.00         -0.43        -0.37\n",
       "petal.length          0.87        -0.43          1.00         0.96\n",
       "petal.width           0.82        -0.37          0.96         1.00"
      ]
     },
     "metadata": {},
     "output_type": "display_data"
    }
   ],
   "source": [
    "df_numeric = df.drop(columns=['variety']) # remobing the variety feature because its not numeric\n",
    "corelation_matrix=df_numeric.corr() # original correlation matrix\n",
    "display(corelation_matrix.round(2)) # displaying rounded correlation matrix for easy analysis"
   ]
  },
  {
   "cell_type": "markdown",
   "metadata": {},
   "source": [
    "- The matrix shows that there is strong positive correlation between petal width and petal length at **0.96** and slightly strong correlation between petal length with sepal length at **0.87** and petal width with sepal length at **0.82**. \n",
    "\n",
    "- It also shows that there is weak negative correaltion between petal length with sepal width at **-0.43**\n",
    "\n",
    "Hence, this data shows that petal width increases with increase in petal length and similarly with the increase in sepal length there is increase in petal length and petal width which means that flowers having longer sepal will bloom with larger petals."
   ]
  },
  {
   "cell_type": "markdown",
   "metadata": {},
   "source": [
    "---\n"
   ]
  },
  {
   "cell_type": "markdown",
   "metadata": {},
   "source": [
    "Given the following table of events, compute P(A∣B) and P(B∣A)\n",
    "\n",
    "|                | **B**   | **Not B** |\n",
    "| -------------- | ------- | --------- |\n",
    "| **A**          | 30      | 20        |\n",
    "| **Not A**      | 50      | 100       |"
   ]
  },
  {
   "cell_type": "code",
   "execution_count": 70,
   "metadata": {},
   "outputs": [
    {
     "name": "stdout",
     "output_type": "stream",
     "text": [
      "Probability of A occuring given that B has already occured \n",
      " P(A/B) = 0.375\n",
      "Probability of B occuring given that A has already occured \n",
      " P(B/A) = 0.6\n"
     ]
    }
   ],
   "source": [
    "P_A_and_B = 30  # A intersection B\n",
    "P_B = 80 # Probability of B occuring\n",
    "P_A = 50 # Probability of A occuring\n",
    "\n",
    "P_A_given_B = P_A_and_B / P_B  # P(A/B)\n",
    "P_B_given_A = P_A_and_B / P_A  # P(B/A)\n",
    "\n",
    "# Display the results\n",
    "print(\"Probability of A occuring given that B has already occured \\n P(A/B) =\", P_A_given_B)\n",
    "print(\"Probability of B occuring given that A has already occured \\n P(B/A) =\", P_B_given_A)"
   ]
  },
  {
   "cell_type": "markdown",
   "metadata": {},
   "source": [
    "---"
   ]
  },
  {
   "cell_type": "markdown",
   "metadata": {},
   "source": [
    "A model classifies spam emails with the following probabilities:   \n",
    "P(Spam)=0.2  \n",
    "P(Not Spam)=0.8  \n",
    "P(Keyword/Spam)=0.7  \n",
    "P(Keyword/Not Spam)=0.1  \n",
    "Compute the probability that an email is spam given that it contains the keyword."
   ]
  },
  {
   "cell_type": "code",
   "execution_count": 74,
   "metadata": {},
   "outputs": [
    {
     "name": "stdout",
     "output_type": "stream",
     "text": [
      "0.6363636363636362\n"
     ]
    }
   ],
   "source": [
    "P_s=0.2 # probability of email being spam\n",
    "P_ns =0.8 # probability of email being not spam\n",
    "P_k_given_s=0.7 # probability of email with keyword given its spam\n",
    "P_K_given_ns=0.1 # probability of email with keyword given its not spam\n",
    "\n",
    "P_k= (P_k_given_s *P_s) + P_K_given_ns*P_ns # totality theorem to calculate Probability of email with keywords \n",
    "P_s_given_k =(P_k_given_s * P_s)/P_k # Baye's theorem \n",
    "print(P_s_given_k)"
   ]
  },
  {
   "cell_type": "markdown",
   "metadata": {},
   "source": [
    "---"
   ]
  }
 ],
 "metadata": {
  "kernelspec": {
   "display_name": "Python 3",
   "language": "python",
   "name": "python3"
  },
  "language_info": {
   "codemirror_mode": {
    "name": "ipython",
    "version": 3
   },
   "file_extension": ".py",
   "mimetype": "text/x-python",
   "name": "python",
   "nbconvert_exporter": "python",
   "pygments_lexer": "ipython3",
   "version": "3.13.0"
  }
 },
 "nbformat": 4,
 "nbformat_minor": 2
}
